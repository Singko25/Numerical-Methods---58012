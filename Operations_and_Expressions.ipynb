{
  "nbformat": 4,
  "nbformat_minor": 0,
  "metadata": {
    "colab": {
      "name": "Operations_and_Expressions.ipynb",
      "provenance": [],
      "authorship_tag": "ABX9TyMMLBbgF3ls+h6rwmjl02GO",
      "include_colab_link": true
    },
    "kernelspec": {
      "name": "python3",
      "display_name": "Python 3"
    },
    "language_info": {
      "name": "python"
    }
  },
  "cells": [
    {
      "cell_type": "markdown",
      "metadata": {
        "id": "view-in-github",
        "colab_type": "text"
      },
      "source": [
        "<a href=\"https://colab.research.google.com/github/Singko25/Numerical-Methods---58012/blob/main/Operations_and_Expressions.ipynb\" target=\"_parent\"><img src=\"https://colab.research.google.com/assets/colab-badge.svg\" alt=\"Open In Colab\"/></a>"
      ]
    },
    {
      "cell_type": "markdown",
      "source": [
        "##Boolean Operators"
      ],
      "metadata": {
        "id": "9RMuOXQaABxs"
      }
    },
    {
      "cell_type": "code",
      "execution_count": 1,
      "metadata": {
        "colab": {
          "base_uri": "https://localhost:8080/"
        },
        "id": "8zi_zmmz98yn",
        "outputId": "c58cc5f5-d773-4cc1-e35c-dd49c2628d2c"
      },
      "outputs": [
        {
          "output_type": "stream",
          "name": "stdout",
          "text": [
            "True\n",
            "False\n",
            "False\n"
          ]
        }
      ],
      "source": [
        "print(10>9)\n",
        "print(10<9)\n",
        "print(10==9)"
      ]
    },
    {
      "cell_type": "code",
      "source": [
        "a = 10\n",
        "b = 9\n",
        "\n",
        "print(a>b)\n",
        "print(a<b)\n",
        "print(a==b)"
      ],
      "metadata": {
        "colab": {
          "base_uri": "https://localhost:8080/"
        },
        "id": "5ZYY6zoxA0RC",
        "outputId": "f10b6949-3597-4ef7-af57-3b1a7a9d9be2"
      },
      "execution_count": 2,
      "outputs": [
        {
          "output_type": "stream",
          "name": "stdout",
          "text": [
            "True\n",
            "False\n",
            "False\n"
          ]
        }
      ]
    },
    {
      "cell_type": "markdown",
      "source": [
        "##Bool Function"
      ],
      "metadata": {
        "id": "sdpemqmqAHpy"
      }
    },
    {
      "cell_type": "code",
      "source": [
        "print(bool(1))\n",
        "print(bool(0))\n",
        "print(bool(\"Maria\"))\n",
        "print(bool(None))\n",
        "print(bool([]))"
      ],
      "metadata": {
        "colab": {
          "base_uri": "https://localhost:8080/"
        },
        "id": "f2OtZ22hAMJ4",
        "outputId": "d3393ef8-be5d-4a38-eed2-b091b60ea7c9"
      },
      "execution_count": 3,
      "outputs": [
        {
          "output_type": "stream",
          "name": "stdout",
          "text": [
            "True\n",
            "False\n",
            "True\n",
            "False\n",
            "False\n"
          ]
        }
      ]
    },
    {
      "cell_type": "markdown",
      "source": [
        "##Functions Can Return a Bool"
      ],
      "metadata": {
        "id": "nIe_w4bQAQdU"
      }
    },
    {
      "cell_type": "code",
      "source": [
        "def my_Function():\n",
        "  return False\n",
        "\n",
        "print(my_Function())\n",
        "\n",
        "if my_Function():\n",
        "  print(\"Yes!\")\n",
        "else:\n",
        "  print(\"No!\")\n"
      ],
      "metadata": {
        "colab": {
          "base_uri": "https://localhost:8080/"
        },
        "id": "xBQm_LejAUy7",
        "outputId": "74ba8a76-72ef-41ea-98f3-f5ac05ef6a2d"
      },
      "execution_count": 4,
      "outputs": [
        {
          "output_type": "stream",
          "name": "stdout",
          "text": [
            "False\n",
            "No!\n"
          ]
        }
      ]
    },
    {
      "cell_type": "markdown",
      "source": [
        "##Python Operators"
      ],
      "metadata": {
        "id": "bRh45IQdAV1P"
      }
    },
    {
      "cell_type": "code",
      "source": [
        "print(2+5)\n",
        "print(2-5)\n",
        "print(2*5)\n",
        "print(5/2)\n",
        "print(5//2)\n",
        "print(5**2)"
      ],
      "metadata": {
        "colab": {
          "base_uri": "https://localhost:8080/"
        },
        "id": "Kz8neJECAaKu",
        "outputId": "e4513158-26f2-4f58-ac7e-d65b879d4513"
      },
      "execution_count": 5,
      "outputs": [
        {
          "output_type": "stream",
          "name": "stdout",
          "text": [
            "7\n",
            "-3\n",
            "10\n",
            "2.5\n",
            "2\n",
            "25\n"
          ]
        }
      ]
    },
    {
      "cell_type": "markdown",
      "source": [
        "##Bitwise Operators"
      ],
      "metadata": {
        "id": "p0d4X--GAbHd"
      }
    },
    {
      "cell_type": "code",
      "source": [
        "a = 60\n",
        "b = 13\n",
        "\n",
        "print(a&b)\n",
        "print(a|b)\n",
        "print(a^b)"
      ],
      "metadata": {
        "colab": {
          "base_uri": "https://localhost:8080/"
        },
        "id": "tz5-yOiTAewb",
        "outputId": "ca61bd51-13ad-4bfa-f898-552ca96340ca"
      },
      "execution_count": 6,
      "outputs": [
        {
          "output_type": "stream",
          "name": "stdout",
          "text": [
            "12\n",
            "61\n",
            "49\n"
          ]
        }
      ]
    },
    {
      "cell_type": "markdown",
      "source": [
        "##Assignment Operators"
      ],
      "metadata": {
        "id": "GncVMnN1Afuw"
      }
    },
    {
      "cell_type": "code",
      "source": [
        "a += 3   #Same as a = a +3\n",
        "print(a)"
      ],
      "metadata": {
        "colab": {
          "base_uri": "https://localhost:8080/"
        },
        "id": "nE37I1eRAjSa",
        "outputId": "0f74ccfd-fcdc-4961-e87f-55e473c8fb64"
      },
      "execution_count": 7,
      "outputs": [
        {
          "output_type": "stream",
          "name": "stdout",
          "text": [
            "63\n"
          ]
        }
      ]
    },
    {
      "cell_type": "markdown",
      "source": [
        "##Logical Operators"
      ],
      "metadata": {
        "id": "I_nSeZexAkV2"
      }
    },
    {
      "cell_type": "code",
      "source": [
        "x = True\n",
        "y = False\n",
        "\n",
        "print(x and y)\n",
        "print(x or y)\n",
        "print(not(x and y))"
      ],
      "metadata": {
        "colab": {
          "base_uri": "https://localhost:8080/"
        },
        "id": "2LlpSoAlApE1",
        "outputId": "e78ec5fd-b238-41cf-d37a-4a6704b6fe15"
      },
      "execution_count": 8,
      "outputs": [
        {
          "output_type": "stream",
          "name": "stdout",
          "text": [
            "False\n",
            "True\n",
            "True\n"
          ]
        }
      ]
    },
    {
      "cell_type": "markdown",
      "source": [
        "##Identity Operators"
      ],
      "metadata": {
        "id": "UtlIdQPkApwT"
      }
    },
    {
      "cell_type": "code",
      "source": [
        "a is b\n",
        "a is not b"
      ],
      "metadata": {
        "colab": {
          "base_uri": "https://localhost:8080/"
        },
        "id": "ZNpX2BkOAug2",
        "outputId": "7f90b966-f293-404d-bd43-bed06e5a18c9"
      },
      "execution_count": 10,
      "outputs": [
        {
          "output_type": "execute_result",
          "data": {
            "text/plain": [
              "True"
            ]
          },
          "metadata": {},
          "execution_count": 10
        }
      ]
    }
  ]
}